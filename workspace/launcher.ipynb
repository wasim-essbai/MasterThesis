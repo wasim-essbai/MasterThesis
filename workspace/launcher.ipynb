{
  "nbformat": 4,
  "nbformat_minor": 0,
  "metadata": {
    "colab": {
      "provenance": [],
      "mount_file_id": "https://github.com/wasim-essbai/MasterThesis/blob/main/workspace/launcher.ipynb",
      "authorship_tag": "ABX9TyOs6pGAIbG+kkKDdy7ve7oo",
      "include_colab_link": true
    },
    "kernelspec": {
      "name": "python3",
      "display_name": "Python 3"
    },
    "language_info": {
      "name": "python"
    }
  },
  "cells": [
    {
      "cell_type": "markdown",
      "metadata": {
        "id": "view-in-github",
        "colab_type": "text"
      },
      "source": [
        "<a href=\"https://colab.research.google.com/github/wasim-essbai/MasterThesis/blob/main/workspace/launcher.ipynb\" target=\"_parent\"><img src=\"https://colab.research.google.com/assets/colab-badge.svg\" alt=\"Open In Colab\"/></a>"
      ]
    },
    {
      "cell_type": "code",
      "execution_count": 7,
      "metadata": {
        "id": "ni18UUymY3gF",
        "colab": {
          "base_uri": "https://localhost:8080/"
        },
        "outputId": "09639811-49da-4db8-b3e8-627104e77cda"
      },
      "outputs": [
        {
          "output_type": "stream",
          "name": "stdout",
          "text": [
            "Cloning into 'MasterThesis'...\n",
            "remote: Enumerating objects: 59, done.\u001b[K\n",
            "remote: Counting objects: 100% (59/59), done.\u001b[K\n",
            "remote: Compressing objects: 100% (51/51), done.\u001b[K\n",
            "remote: Total 59 (delta 10), reused 49 (delta 5), pack-reused 0\u001b[K\n",
            "Unpacking objects: 100% (59/59), 9.93 MiB | 9.25 MiB/s, done.\n"
          ]
        }
      ],
      "source": [
        "import os\n",
        "\n",
        "user = \"wasim-essbai\"\n",
        "repo = \"MasterThesis\"\n",
        "\n",
        "# remove local directory if it already exists\n",
        "if os.path.isdir(repo):\n",
        "    !rm -rf {repo}\n",
        "\n",
        "!git config --global user.email \"w.essbai@studenti.unibg.it\"\n",
        "!git config --global user.name \"wasim-essbai\"\n",
        "\n",
        "!git clone https://github.com/{user}/{repo}.git"
      ]
    },
    {
      "cell_type": "code",
      "source": [
        "!python /content/MasterThesis/workspace/bp_estimation_ANN/bp_ann_train.py"
      ],
      "metadata": {
        "colab": {
          "base_uri": "https://localhost:8080/"
        },
        "id": "og6PESg9dzj-",
        "outputId": "26bb22b4-f7d1-482b-e2d2-3eea031f4845"
      },
      "execution_count": 11,
      "outputs": [
        {
          "output_type": "stream",
          "name": "stdout",
          "text": [
            "2023-05-04 20:40:10.271888: I tensorflow/core/platform/cpu_feature_guard.cc:182] This TensorFlow binary is optimized to use available CPU instructions in performance-critical operations.\n",
            "To enable the following instructions: AVX2 FMA, in other operations, rebuild TensorFlow with the appropriate compiler flags.\n",
            "2023-05-04 20:40:11.563756: W tensorflow/compiler/tf2tensorrt/utils/py_utils.cc:38] TF-TRT Warning: Could not find TensorRT\n",
            "test_sample Data type: <class 'numpy.ndarray'>\n",
            "test_sample shape/dimensions: (1, 1000)\n",
            "Total Samples: 1000\n",
            "Number of readings in each sample(column): 3\n",
            "Number of samples in each reading(ECG): 61000\n",
            "9000\n",
            "72\n",
            "Traceback (most recent call last):\n",
            "  File \"/content/MasterThesis/workspace/bp_estimation_ANN/bp_ann_train.py\", line 65, in <module>\n",
            "    max_value = max(temp_bp)\n",
            "KeyboardInterrupt\n",
            "^C\n"
          ]
        }
      ]
    },
    {
      "cell_type": "code",
      "source": [
        "!git add .\n",
        "!git commit -m \"commit from colab\"\n",
        "!git push"
      ],
      "metadata": {
        "id": "zuKKlXTxgYMP",
        "outputId": "f77e00f6-3f24-45e2-f6c0-450300b64c73",
        "colab": {
          "base_uri": "https://localhost:8080/"
        }
      },
      "execution_count": 12,
      "outputs": [
        {
          "output_type": "stream",
          "name": "stdout",
          "text": [
            "fatal: not a git repository (or any of the parent directories): .git\n",
            "fatal: not a git repository (or any of the parent directories): .git\n",
            "fatal: not a git repository (or any of the parent directories): .git\n"
          ]
        }
      ]
    }
  ]
}