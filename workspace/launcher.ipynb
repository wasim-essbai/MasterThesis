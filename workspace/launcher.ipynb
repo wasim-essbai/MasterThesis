{
  "nbformat": 4,
  "nbformat_minor": 0,
  "metadata": {
    "colab": {
      "provenance": [],
      "mount_file_id": "https://github.com/wasim-essbai/MasterThesis/blob/main/workspace/launcher.ipynb",
      "authorship_tag": "ABX9TyOxHnWxpZ3rFz83eLpEJSor",
      "include_colab_link": true
    },
    "kernelspec": {
      "name": "python3",
      "display_name": "Python 3"
    },
    "language_info": {
      "name": "python"
    }
  },
  "cells": [
    {
      "cell_type": "markdown",
      "metadata": {
        "id": "view-in-github",
        "colab_type": "text"
      },
      "source": [
        "<a href=\"https://colab.research.google.com/github/wasim-essbai/MasterThesis/blob/main/workspace/launcher.ipynb\" target=\"_parent\"><img src=\"https://colab.research.google.com/assets/colab-badge.svg\" alt=\"Open In Colab\"/></a>"
      ]
    },
    {
      "cell_type": "code",
      "execution_count": 6,
      "metadata": {
        "id": "ni18UUymY3gF",
        "colab": {
          "base_uri": "https://localhost:8080/"
        },
        "outputId": "4fea57d0-56ba-4911-d1d6-5bc209079e43"
      },
      "outputs": [
        {
          "output_type": "stream",
          "name": "stdout",
          "text": [
            "Cloning into 'MasterThesis'...\n",
            "remote: Enumerating objects: 89, done.\u001b[K\n",
            "remote: Counting objects: 100% (89/89), done.\u001b[K\n",
            "remote: Compressing objects: 100% (74/74), done.\u001b[K\n",
            "remote: Total 89 (delta 31), reused 60 (delta 12), pack-reused 0\u001b[K\n",
            "Unpacking objects: 100% (89/89), 9.94 MiB | 9.54 MiB/s, done.\n",
            "/content/MasterThesis/MasterThesis\n"
          ]
        }
      ],
      "source": [
        "import os\n",
        "\n",
        "user = \"wasim-essbai\"\n",
        "repo = \"MasterThesis\"\n",
        "token = \"\"\n",
        "\n",
        "# remove local directory if it already exists\n",
        "if os.path.isdir(repo):\n",
        "    !rm -rf {repo}\n",
        "\n",
        "!git config --global user.email \"w.essbai@studenti.unibg.it\"\n",
        "!git config --global user.name \"wasim-essbai\"\n",
        "\n",
        "!git clone https://{token}@github.com/{user}/{repo}\n",
        "%cd ./MasterThesis"
      ]
    },
    {
      "cell_type": "code",
      "source": [
        "!python /content/MasterThesis/workspace/bp_estimation_ANN/bp_ann_train.py"
      ],
      "metadata": {
        "colab": {
          "base_uri": "https://localhost:8080/"
        },
        "id": "og6PESg9dzj-",
        "outputId": "e2c43f0b-a073-4738-ed6f-b0e88428212d"
      },
      "execution_count": 3,
      "outputs": [
        {
          "output_type": "stream",
          "name": "stdout",
          "text": [
            "2023-05-04 21:19:54.707669: I tensorflow/core/platform/cpu_feature_guard.cc:182] This TensorFlow binary is optimized to use available CPU instructions in performance-critical operations.\n",
            "To enable the following instructions: AVX2 FMA, in other operations, rebuild TensorFlow with the appropriate compiler flags.\n",
            "2023-05-04 21:19:55.884324: W tensorflow/compiler/tf2tensorrt/utils/py_utils.cc:38] TF-TRT Warning: Could not find TensorRT\n",
            "test_sample Data type: <class 'numpy.ndarray'>\n",
            "test_sample shape/dimensions: (1, 1000)\n",
            "Total Samples: 1000\n",
            "Number of readings in each sample(column): 3\n",
            "Number of samples in each reading(ECG): 61000\n",
            "9000\n",
            "72\n",
            "PPG_shape: (32061000, 1)\n",
            " ECG_shape: (32061000, 1)\n",
            " BP_shape: (32061000, 1)\n",
            "Systolic-BP_shape: (256488, 1),\n",
            " Diastolic-BP_shape: (256488, 1)\n",
            "Figure(900x1200)\n",
            "Input size 1\n",
            "Model: \"sequential\"\n",
            "_________________________________________________________________\n",
            " Layer (type)                Output Shape              Param #   \n",
            "=================================================================\n",
            " dense (Dense)               (None, 1024)              2048      \n",
            "                                                                 \n",
            " activation (Activation)     (None, 1024)              0         \n",
            "                                                                 \n",
            " dropout (Dropout)           (None, 1024)              0         \n",
            "                                                                 \n",
            " dense_1 (Dense)             (None, 512)               524800    \n",
            "                                                                 \n",
            " activation_1 (Activation)   (None, 512)               0         \n",
            "                                                                 \n",
            " dropout_1 (Dropout)         (None, 512)               0         \n",
            "                                                                 \n",
            " dense_2 (Dense)             (None, 64)                32832     \n",
            "                                                                 \n",
            " activation_2 (Activation)   (None, 64)                0         \n",
            "                                                                 \n",
            " dropout_2 (Dropout)         (None, 64)                0         \n",
            "                                                                 \n",
            " dense_3 (Dense)             (None, 1)                 65        \n",
            "                                                                 \n",
            " activation_3 (Activation)   (None, 1)                 0         \n",
            "                                                                 \n",
            "=================================================================\n",
            "Total params: 559,745\n",
            "Trainable params: 559,745\n",
            "Non-trainable params: 0\n",
            "_________________________________________________________________\n",
            "Epoch 1/5\n",
            "7813/7813 [==============================] - 156s 20ms/step - loss: 22.2265 - mean_absolute_error: 22.7214\n",
            "Epoch 2/5\n",
            "7813/7813 [==============================] - 156s 20ms/step - loss: 20.7419 - mean_absolute_error: 21.2364\n",
            "Epoch 3/5\n",
            "7813/7813 [==============================] - 158s 20ms/step - loss: 20.5217 - mean_absolute_error: 21.0160\n",
            "Epoch 4/5\n",
            "7813/7813 [==============================] - 155s 20ms/step - loss: 20.3600 - mean_absolute_error: 20.8545\n",
            "Epoch 5/5\n",
            "7813/7813 [==============================] - 158s 20ms/step - loss: 20.2163 - mean_absolute_error: 20.7105\n",
            "2023-05-04 21:33:42.216760: I tensorflow/core/common_runtime/executor.cc:1197] [/device:CPU:0] (DEBUG INFO) Executor start aborting (this does not indicate an error and you can ignore this message): INVALID_ARGUMENT: You must feed a value for placeholder tensor 'inputs' with dtype float and shape [?,1024]\n",
            "\t [[{{node inputs}}]]\n",
            "2023-05-04 21:33:42.246129: I tensorflow/core/common_runtime/executor.cc:1197] [/device:CPU:0] (DEBUG INFO) Executor start aborting (this does not indicate an error and you can ignore this message): INVALID_ARGUMENT: You must feed a value for placeholder tensor 'inputs' with dtype float and shape [?,512]\n",
            "\t [[{{node inputs}}]]\n",
            "2023-05-04 21:33:42.278381: I tensorflow/core/common_runtime/executor.cc:1197] [/device:CPU:0] (DEBUG INFO) Executor start aborting (this does not indicate an error and you can ignore this message): INVALID_ARGUMENT: You must feed a value for placeholder tensor 'inputs' with dtype float and shape [?,64]\n",
            "\t [[{{node inputs}}]]\n",
            "2023-05-04 21:33:43.133720: I tensorflow/core/common_runtime/executor.cc:1197] [/device:CPU:0] (DEBUG INFO) Executor start aborting (this does not indicate an error and you can ignore this message): INVALID_ARGUMENT: You must feed a value for placeholder tensor 'inputs' with dtype float and shape [?,1024]\n",
            "\t [[{{node inputs}}]]\n",
            "2023-05-04 21:33:43.203810: I tensorflow/core/common_runtime/executor.cc:1197] [/device:CPU:0] (DEBUG INFO) Executor start aborting (this does not indicate an error and you can ignore this message): INVALID_ARGUMENT: You must feed a value for placeholder tensor 'inputs' with dtype float and shape [?,512]\n",
            "\t [[{{node inputs}}]]\n",
            "2023-05-04 21:33:43.271575: I tensorflow/core/common_runtime/executor.cc:1197] [/device:CPU:0] (DEBUG INFO) Executor start aborting (this does not indicate an error and you can ignore this message): INVALID_ARGUMENT: You must feed a value for placeholder tensor 'inputs' with dtype float and shape [?,64]\n",
            "\t [[{{node inputs}}]]\n"
          ]
        }
      ]
    },
    {
      "cell_type": "code",
      "source": [
        "%cd MasterThesis\n",
        "!git add .\n",
        "!git commit -m \"commit from colab\"\n",
        "!git push"
      ],
      "metadata": {
        "colab": {
          "base_uri": "https://localhost:8080/"
        },
        "id": "zuKKlXTxgYMP",
        "outputId": "1ad30bd4-1ec8-4045-e567-f4b8e9b21fd2"
      },
      "execution_count": 5,
      "outputs": [
        {
          "output_type": "stream",
          "name": "stdout",
          "text": [
            "/content/MasterThesis\n",
            "[main 43a8d7f] commit from colab\n",
            " 5 files changed, 17 insertions(+)\n",
            " create mode 100644 workspace/bp_estimation_ANN/model/bp_ann_model/fingerprint.pb\n",
            " create mode 100644 workspace/bp_estimation_ANN/model/bp_ann_model/keras_metadata.pb\n",
            " create mode 100644 workspace/bp_estimation_ANN/model/bp_ann_model/saved_model.pb\n",
            " create mode 100644 workspace/bp_estimation_ANN/model/bp_ann_model/variables/variables.data-00000-of-00001\n",
            " create mode 100644 workspace/bp_estimation_ANN/model/bp_ann_model/variables/variables.index\n",
            "fatal: could not read Username for 'https://github.com': No such device or address\n"
          ]
        }
      ]
    }
  ]
}