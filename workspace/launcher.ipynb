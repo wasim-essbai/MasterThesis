{
  "nbformat": 4,
  "nbformat_minor": 0,
  "metadata": {
    "colab": {
      "provenance": [],
      "gpuType": "T4",
      "mount_file_id": "https://github.com/wasim-essbai/MasterThesis/blob/main/workspace/launcher.ipynb",
      "authorship_tag": "ABX9TyPVsds9IjvX7W30AAReaRPb",
      "include_colab_link": true
    },
    "kernelspec": {
      "name": "python3",
      "display_name": "Python 3"
    },
    "language_info": {
      "name": "python"
    },
    "gpuClass": "standard",
    "accelerator": "GPU"
  },
  "cells": [
    {
      "cell_type": "markdown",
      "metadata": {
        "id": "view-in-github",
        "colab_type": "text"
      },
      "source": [
        "<a href=\"https://colab.research.google.com/github/wasim-essbai/MasterThesis/blob/main/workspace/launcher.ipynb\" target=\"_parent\"><img src=\"https://colab.research.google.com/assets/colab-badge.svg\" alt=\"Open In Colab\"/></a>"
      ]
    },
    {
      "cell_type": "code",
      "execution_count": null,
      "metadata": {
        "id": "ni18UUymY3gF"
      },
      "outputs": [],
      "source": [
        "import os\n",
        "\n",
        "user = \"wasim-essbai\"\n",
        "repo = \"MasterThesis\"\n",
        "token = \"\"\n",
        "\n",
        "# remove local directory if it already exists\n",
        "if os.path.isdir(repo):\n",
        "    !rm -rf {repo}\n",
        "\n",
        "!git config --global user.email \"w.essbai@studenti.unibg.it\"\n",
        "!git config --global user.name \"wasim-essbai\"\n",
        "\n",
        "!git clone https://{token}@github.com/{user}/{repo}\n",
        "%cd ./MasterThesis"
      ]
    },
    {
      "cell_type": "code",
      "source": [
        "!python /content/MasterThesis/workspace/bp_estimation_ANN/bp_ann_train.py"
      ],
      "metadata": {
        "colab": {
          "base_uri": "https://localhost:8080/"
        },
        "id": "og6PESg9dzj-",
        "outputId": "46754a71-9f20-485e-f55e-8cefc32d2c95"
      },
      "execution_count": 10,
      "outputs": [
        {
          "output_type": "stream",
          "name": "stdout",
          "text": [
            "2023-05-05 00:36:43.242037: W tensorflow/compiler/tf2tensorrt/utils/py_utils.cc:38] TF-TRT Warning: Could not find TensorRT\n",
            "2.12.0\n",
            "[PhysicalDevice(name='/physical_device:GPU:0', device_type='GPU')]\n",
            "test_sample Data type: <class 'numpy.ndarray'>\n",
            "test_sample shape/dimensions: (1, 1000)\n",
            "Total Samples: 1000\n",
            "Number of readings in each sample(column): 3\n",
            "Number of samples in each reading(ECG): 61000\n",
            "9000\n",
            "72\n",
            "PPG_shape: (32061000, 1)\n",
            " ECG_shape: (32061000, 1)\n",
            " BP_shape: (32061000, 1)\n",
            "Systolic-BP_shape: (256488, 1),\n",
            " Diastolic-BP_shape: (256488, 1)\n",
            "Figure(900x1200)\n",
            "Input size 1\n",
            "2023-05-05 00:37:01.766617: W tensorflow/core/common_runtime/gpu/gpu_bfc_allocator.cc:47] Overriding orig_value setting because the TF_FORCE_GPU_ALLOW_GROWTH environment variable is set. Original config value was 0.\n",
            "Model: \"sequential\"\n",
            "_________________________________________________________________\n",
            " Layer (type)                Output Shape              Param #   \n",
            "=================================================================\n",
            " dense (Dense)               (None, 20)                40        \n",
            "                                                                 \n",
            " activation (Activation)     (None, 20)                0         \n",
            "                                                                 \n",
            " dropout (Dropout)           (None, 20)                0         \n",
            "                                                                 \n",
            " dense_1 (Dense)             (None, 30)                630       \n",
            "                                                                 \n",
            " activation_1 (Activation)   (None, 30)                0         \n",
            "                                                                 \n",
            " dropout_1 (Dropout)         (None, 30)                0         \n",
            "                                                                 \n",
            " dense_2 (Dense)             (None, 1)                 31        \n",
            "                                                                 \n",
            " activation_2 (Activation)   (None, 1)                 0         \n",
            "                                                                 \n",
            "=================================================================\n",
            "Total params: 701\n",
            "Trainable params: 701\n",
            "Non-trainable params: 0\n",
            "_________________________________________________________________\n",
            "2023-05-05 00:37:02.299443: W tensorflow/tsl/framework/cpu_allocator_impl.cc:83] Allocation of 179541600 exceeds 10% of free system memory.\n",
            "2023-05-05 00:37:02.384395: W tensorflow/tsl/framework/cpu_allocator_impl.cc:83] Allocation of 179541600 exceeds 10% of free system memory.\n",
            "Epoch 1/5\n",
            "2023-05-05 00:37:03.018198: W tensorflow/tsl/framework/cpu_allocator_impl.cc:83] Allocation of 179541600 exceeds 10% of free system memory.\n",
            "2023-05-05 00:37:03.102445: W tensorflow/tsl/framework/cpu_allocator_impl.cc:83] Allocation of 179541600 exceeds 10% of free system memory.\n",
            "2023-05-05 00:37:04.208897: W tensorflow/tsl/framework/cpu_allocator_impl.cc:83] Allocation of 179541600 exceeds 10% of free system memory.\n",
            "21917/21917 [==============================] - 90s 4ms/step - loss: 25.6904 - mean_absolute_error: 26.1859\n",
            "Epoch 2/5\n",
            "21917/21917 [==============================] - 74s 3ms/step - loss: 22.8716 - mean_absolute_error: 23.3666\n",
            "Epoch 3/5\n",
            "21917/21917 [==============================] - 72s 3ms/step - loss: 21.7545 - mean_absolute_error: 22.2493\n",
            "Epoch 4/5\n",
            "21917/21917 [==============================] - 72s 3ms/step - loss: 21.1584 - mean_absolute_error: 21.6530\n",
            "Epoch 5/5\n",
            "21917/21917 [==============================] - 71s 3ms/step - loss: 20.9458 - mean_absolute_error: 21.4405\n",
            "Training done!\n"
          ]
        }
      ]
    },
    {
      "cell_type": "code",
      "source": [
        "!python /content/MasterThesis/workspace/bp_estimation_BNN/bp_bnn_train.py"
      ],
      "metadata": {
        "colab": {
          "base_uri": "https://localhost:8080/"
        },
        "id": "m2RbqQq8Clr0",
        "outputId": "6ae5e69b-90f0-41da-b756-e6682fd909ed"
      },
      "execution_count": 11,
      "outputs": [
        {
          "output_type": "stream",
          "name": "stdout",
          "text": [
            "2023-05-05 00:44:45.978786: W tensorflow/compiler/tf2tensorrt/utils/py_utils.cc:38] TF-TRT Warning: Could not find TensorRT\n",
            "2.12.0\n",
            "[PhysicalDevice(name='/physical_device:GPU:0', device_type='GPU')]\n",
            "test_sample Data type: <class 'numpy.ndarray'>\n",
            "test_sample shape/dimensions: (1, 1000)\n",
            "Total Samples: 1000\n",
            "Number of readings in each sample(column): 3\n",
            "Number of samples in each reading(ECG): 61000\n",
            "9000\n",
            "72\n",
            "PPG_shape: (32061000, 1)\n",
            " ECG_shape: (32061000, 1)\n",
            " BP_shape: (32061000, 1)\n",
            "Systolic-BP_shape: (256488, 1),\n",
            " Diastolic-BP_shape: (256488, 1)\n",
            "Figure(900x1200)\n",
            "2023-05-05 00:45:04.336311: W tensorflow/core/common_runtime/gpu/gpu_bfc_allocator.cc:47] Overriding orig_value setting because the TF_FORCE_GPU_ALLOW_GROWTH environment variable is set. Original config value was 0.\n",
            "WARNING:tensorflow:From /usr/local/lib/python3.10/dist-packages/tensorflow_probability/python/distributions/distribution.py:342: calling MultivariateNormalDiag.__init__ (from tensorflow_probability.python.distributions.mvn_diag) with scale_identity_multiplier is deprecated and will be removed after 2020-01-01.\n",
            "Instructions for updating:\n",
            "`scale_identity_multiplier` is deprecated; please combine it into `scale_diag` directly instead.\n",
            "Model: \"sequential\"\n",
            "_________________________________________________________________\n",
            " Layer (type)                Output Shape              Param #   \n",
            "=================================================================\n",
            " dense_variational (DenseVar  (None, 35)               2555      \n",
            " iational)                                                       \n",
            "                                                                 \n",
            " dropout (Dropout)           (None, 35)                0         \n",
            "                                                                 \n",
            " dense_variational_1 (DenseV  (None, 20)               260280    \n",
            " ariational)                                                     \n",
            "                                                                 \n",
            " dropout_1 (Dropout)         (None, 20)                0         \n",
            "                                                                 \n",
            " dense (Dense)               (None, 2)                 42        \n",
            "                                                                 \n",
            " independent_normal (Indepen  ((None, 1),              0         \n",
            " dentNormal)                  (None, 1))                         \n",
            "                                                                 \n",
            "=================================================================\n",
            "Total params: 262,877\n",
            "Trainable params: 262,877\n",
            "Non-trainable params: 0\n",
            "_________________________________________________________________\n",
            "2023-05-05 00:45:05.567172: W tensorflow/tsl/framework/cpu_allocator_impl.cc:83] Allocation of 179541600 exceeds 10% of free system memory.\n",
            "2023-05-05 00:45:05.652675: W tensorflow/tsl/framework/cpu_allocator_impl.cc:83] Allocation of 179541600 exceeds 10% of free system memory.\n",
            "Epoch 1/5\n",
            "2023-05-05 00:45:07.929147: W tensorflow/tsl/framework/cpu_allocator_impl.cc:83] Allocation of 179541600 exceeds 10% of free system memory.\n",
            "2023-05-05 00:45:08.034225: W tensorflow/tsl/framework/cpu_allocator_impl.cc:83] Allocation of 179541600 exceeds 10% of free system memory.\n",
            "2023-05-05 00:45:09.459210: W tensorflow/tsl/framework/cpu_allocator_impl.cc:83] Allocation of 179541600 exceeds 10% of free system memory.\n",
            "21917/21917 [==============================] - 106s 5ms/step - loss: 32.5573 - mean_absolute_error: 33.0537\n",
            "Epoch 2/5\n",
            "21917/21917 [==============================] - 101s 5ms/step - loss: 24.0654 - mean_absolute_error: 24.5606\n",
            "Epoch 3/5\n",
            "21917/21917 [==============================] - 94s 4ms/step - loss: 21.8888 - mean_absolute_error: 22.3834\n",
            "Epoch 4/5\n",
            "21917/21917 [==============================] - 94s 4ms/step - loss: 20.6596 - mean_absolute_error: 21.1536\n",
            "Epoch 5/5\n",
            "21917/21917 [==============================] - 93s 4ms/step - loss: 20.0041 - mean_absolute_error: 20.4978\n",
            "Training done!\n",
            "WARNING:tensorflow:`_` is not a valid node name. Accepted names conform to Regex /re.compile('^[A-Za-z0-9.][A-Za-z0-9_.\\\\\\\\/>-]*$')/\n",
            "WARNING:absl:`_` is not a valid tf.function parameter name. Sanitizing to `arg__`.\n",
            "WARNING:absl:`_` is not a valid tf.function parameter name. Sanitizing to `arg__`.\n",
            "WARNING:tensorflow:`_` is not a valid node name. Accepted names conform to Regex /re.compile('^[A-Za-z0-9.][A-Za-z0-9_.\\\\\\\\/>-]*$')/\n",
            "WARNING:tensorflow:`_` is not a valid node name. Accepted names conform to Regex /re.compile('^[A-Za-z0-9.][A-Za-z0-9_.\\\\\\\\/>-]*$')/\n",
            "WARNING:absl:`_` is not a valid tf.function parameter name. Sanitizing to `arg__`.\n",
            "WARNING:absl:`_` is not a valid tf.function parameter name. Sanitizing to `arg__`.\n",
            "WARNING:tensorflow:`_` is not a valid node name. Accepted names conform to Regex /re.compile('^[A-Za-z0-9.][A-Za-z0-9_.\\\\\\\\/>-]*$')/\n",
            "WARNING:tensorflow:`_` is not a valid node name. Accepted names conform to Regex /re.compile('^[A-Za-z0-9.][A-Za-z0-9_.\\\\\\\\/>-]*$')/\n",
            "WARNING:absl:`_` is not a valid tf.function parameter name. Sanitizing to `arg__`.\n",
            "WARNING:tensorflow:`_` is not a valid node name. Accepted names conform to Regex /re.compile('^[A-Za-z0-9.][A-Za-z0-9_.\\\\\\\\/>-]*$')/\n",
            "WARNING:tensorflow:`_` is not a valid node name. Accepted names conform to Regex /re.compile('^[A-Za-z0-9.][A-Za-z0-9_.\\\\\\\\/>-]*$')/\n",
            "WARNING:absl:Function `_wrapped_model` contains input name(s) FeatureInput with unsupported characters which will be renamed to featureinput in the SavedModel.\n"
          ]
        }
      ]
    },
    {
      "cell_type": "code",
      "source": [
        "!git add .\n",
        "!git commit -m \"commit from colab\"\n",
        "!git push"
      ],
      "metadata": {
        "colab": {
          "base_uri": "https://localhost:8080/"
        },
        "id": "zuKKlXTxgYMP",
        "outputId": "f9de4eac-e6ea-48d7-e6c2-44dfa64e7b7e"
      },
      "execution_count": 14,
      "outputs": [
        {
          "output_type": "stream",
          "name": "stdout",
          "text": [
            "[main 86d9760] commit from colab\n",
            "Enumerating objects: 38, done.\n",
            "Counting objects: 100% (36/36), done.\n",
            "Delta compression using up to 2 threads\n",
            "Compressing objects: 100% (25/25), done.\n",
            "Writing objects: 100% (30/30), 2.97 MiB | 2.53 MiB/s, done.\n",
            "Total 30 (delta 8), reused 0 (delta 0)\n",
            "remote: Resolving deltas: 100% (8/8), completed with 3 local objects.\u001b[K\n",
            "To https://github.com/wasim-essbai/MasterThesis\n",
            "   a3fb3c7..86d9760  main -> main\n"
          ]
        }
      ]
    },
    {
      "cell_type": "code",
      "source": [
        "!git fetch\n",
        "!git pull"
      ],
      "metadata": {
        "colab": {
          "base_uri": "https://localhost:8080/"
        },
        "id": "XLwtTZPyHe5v",
        "outputId": "5b26367f-d2c7-459c-c25f-349949bbbc8e"
      },
      "execution_count": 15,
      "outputs": [
        {
          "output_type": "stream",
          "name": "stdout",
          "text": [
            "Already up to date.\n"
          ]
        }
      ]
    }
  ]
}