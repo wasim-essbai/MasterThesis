{
  "nbformat": 4,
  "nbformat_minor": 0,
  "metadata": {
    "colab": {
      "provenance": [],
      "gpuType": "T4",
      "mount_file_id": "https://github.com/wasim-essbai/MasterThesis/blob/main/workspace/launcher.ipynb",
      "authorship_tag": "ABX9TyPVsds9IjvX7W30AAReaRPb",
      "include_colab_link": true
    },
    "kernelspec": {
      "name": "python3",
      "display_name": "Python 3"
    },
    "language_info": {
      "name": "python"
    },
    "gpuClass": "standard",
    "accelerator": "GPU"
  },
  "cells": [
    {
      "cell_type": "markdown",
      "metadata": {
        "id": "view-in-github",
        "colab_type": "text"
      },
      "source": [
        "<a href=\"https://colab.research.google.com/github/wasim-essbai/MasterThesis/blob/main/workspace/launcher.ipynb\" target=\"_parent\"><img src=\"https://colab.research.google.com/assets/colab-badge.svg\" alt=\"Open In Colab\"/></a>"
      ]
    },
    {
      "cell_type": "code",
      "execution_count": null,
      "metadata": {
        "id": "ni18UUymY3gF"
      },
      "outputs": [],
      "source": [
        "import os\n",
        "\n",
        "user = \"wasim-essbai\"\n",
        "repo = \"MasterThesis\"\n",
        "token = \"\"\n",
        "\n",
        "# remove local directory if it already exists\n",
        "if os.path.isdir(repo):\n",
        "    !rm -rf {repo}\n",
        "\n",
        "!git config --global user.email \"w.essbai@studenti.unibg.it\"\n",
        "!git config --global user.name \"wasim-essbai\"\n",
        "\n",
        "!git clone https://{token}@github.com/{user}/{repo}\n",
        "%cd ./MasterThesis"
      ]
    },
    {
      "cell_type": "code",
      "source": [
        "!python /content/MasterThesis/workspace/bp_estimation_ANN/bp_ann_train.py"
      ],
      "metadata": {
        "id": "og6PESg9dzj-"
      },
      "execution_count": null,
      "outputs": []
    },
    {
      "cell_type": "code",
      "source": [
        "!python /content/MasterThesis/workspace/bp_estimation_BNN/bp_bnn_train.py"
      ],
      "metadata": {
        "id": "m2RbqQq8Clr0"
      },
      "execution_count": null,
      "outputs": []
    },
    {
      "cell_type": "code",
      "source": [
        "!git add .\n",
        "!git commit -m \"commit from colab\"\n",
        "!git push"
      ],
      "metadata": {
        "colab": {
          "base_uri": "https://localhost:8080/"
        },
        "id": "zuKKlXTxgYMP",
        "outputId": "234f6ce2-e658-40bb-ad25-1ffc2cb14a91"
      },
      "execution_count": 4,
      "outputs": [
        {
          "output_type": "stream",
          "name": "stdout",
          "text": [
            "[main 9995216] commit from colab\n",
            " 2 files changed, 13 insertions(+), 6 deletions(-)\n",
            "Enumerating objects: 13, done.\n",
            "Counting objects: 100% (13/13), done.\n",
            "Delta compression using up to 2 threads\n",
            "Compressing objects: 100% (7/7), done.\n",
            "Writing objects: 100% (7/7), 884 bytes | 884.00 KiB/s, done.\n",
            "Total 7 (delta 4), reused 0 (delta 0)\n",
            "remote: Resolving deltas: 100% (4/4), completed with 4 local objects.\u001b[K\n",
            "To https://github.com/wasim-essbai/MasterThesis\n",
            "   43d02f9..9995216  main -> main\n"
          ]
        }
      ]
    },
    {
      "cell_type": "code",
      "source": [
        "!git fetch\n",
        "!git pull"
      ],
      "metadata": {
        "id": "XLwtTZPyHe5v"
      },
      "execution_count": null,
      "outputs": []
    }
  ]
}